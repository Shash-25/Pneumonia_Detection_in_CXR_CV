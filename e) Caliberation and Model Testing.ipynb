{
 "cells": [
  {
   "cell_type": "markdown",
   "id": "9ec79fa1-ff24-4c4f-a68c-984da0ebc6c3",
   "metadata": {},
   "source": [
    "# Threshold Caliberation and Model Testing\n",
    "\n",
    "#### Here, we caliberate the best model - 5 layer deep CNN with GlobalMaxPooling at 7th epoch\n",
    "\n",
    "#### In this notebook, we do the following :-\n",
    "1. Define the model architecture and load its weights at 7th epoch\n",
    "2. Plot its precision-recall curve to analyze their trade-off with increasing threshold\n",
    "3. Set the threshold for which recall >90% on the validation set and see the corresponding precision\n",
    "4. Get the performance metrics on the test set using the set threshold\n",
    "\n",
    "#### Conclusion :-\n",
    "<b>On test set, we get the AUC of 0.89 with the precision of 54% on 89% recall! </b> \n"
   ]
  },
  {
   "cell_type": "code",
   "execution_count": 3,
   "id": "83db3353-95bd-47db-aba0-1201154e6ad7",
   "metadata": {},
   "outputs": [],
   "source": [
    "import tensorflow as tf\n",
    "import numpy as np\n",
    "import matplotlib.pyplot as plt\n",
    "import os\n",
    "import pandas as pd\n",
    "\n",
    "from tensorflow.keras import Model, Input\n",
    "from tensorflow.keras.layers import Conv2D, MaxPooling2D, Dense, Flatten, Dropout, BatchNormalization, GlobalMaxPooling2D, ReLU, GlobalAveragePooling2D\n",
    "from tensorflow.keras.metrics import Precision, Recall, AUC\n",
    "\n",
    "from sklearn.metrics import precision_recall_curve, average_precision_score, accuracy_score,roc_auc_score,precision_score,recall_score\n"
   ]
  },
  {
   "cell_type": "markdown",
   "id": "52a32b79-d913-41de-93fe-e84ef6e5cbcb",
   "metadata": {},
   "source": [
    "# Load the Final Model"
   ]
  },
  {
   "cell_type": "code",
   "execution_count": 4,
   "id": "b5ae0b58-8768-4450-af33-a73bec68fac8",
   "metadata": {},
   "outputs": [],
   "source": [
    "downsize_ratio = 4\n",
    "IMG_SIZE = int(1024 / downsize_ratio)\n",
    "batch_size = 12"
   ]
  },
  {
   "cell_type": "code",
   "execution_count": 5,
   "id": "9971a5d3-9149-4445-8dcf-89f7fe35671b",
   "metadata": {},
   "outputs": [],
   "source": [
    "#CNN Layers\n",
    "def convolutional_block_5layer(inputs):\n",
    "    #1\n",
    "    x = Conv2D(60, (3,3), padding = 'same')(inputs) #254 x 254 x 30 \n",
    "    x = BatchNormalization()(x)\n",
    "    x = ReLU()(x)\n",
    "    x = MaxPooling2D((2,2))(x) #127 x 127 x 30\n",
    "    \n",
    "    #2\n",
    "    x = Conv2D(120, (3,3), padding = 'same')(x) #125 x 125 x 60\n",
    "    x = BatchNormalization()(x)\n",
    "    x = ReLU()(x)\n",
    "    x = MaxPooling2D((2,2))(x) #62 x 62 x 60\n",
    "\n",
    "    #3\n",
    "    x = Conv2D(240, (3,3), padding = 'same')(x) #60 x 60 x 120\n",
    "    x = BatchNormalization()(x)\n",
    "    x = ReLU()(x)\n",
    "    x = MaxPooling2D((2,2))(x) #30 x 30 x 120\n",
    "\n",
    "    #4\n",
    "    x = Conv2D(480, (3,3),  padding = 'same')(x) #28 x 28 x 240\n",
    "    x = BatchNormalization()(x)\n",
    "    x = ReLU()(x)\n",
    "    x = MaxPooling2D((2,2))(x) #14 x 14 x 240\n",
    "\n",
    "    #5\n",
    "    x = Conv2D(960, (3,3),  padding = 'same')(x) #12 x 12 x 960\n",
    "    x = BatchNormalization()(x)\n",
    "    x = ReLU()(x)\n",
    "    x = MaxPooling2D((3,3))(x) #6 x 6 x 240\n",
    "    \n",
    "    return x\n",
    "\n",
    "def classification_block_5layer(x):\n",
    "\n",
    "    x = Dropout(0.2)(x)\n",
    "\n",
    "    x = Dense(200)(x)\n",
    "    x = ReLU()(x)\n",
    "    x = Dropout(0.2)(x)\n",
    "\n",
    "    x = Dense(50)(x)\n",
    "    x = ReLU()(x)\n",
    "    \n",
    "    x = Dense(1, activation = 'sigmoid', name = 'classification')(x)\n",
    "\n",
    "    return x\n",
    "\n",
    "inputs = Input(shape = (IMG_SIZE,IMG_SIZE,1))\n",
    "convolutional_block_x = convolutional_block_5layer(inputs)\n",
    "fc_block = GlobalMaxPooling2D()(convolutional_block_x) #Global Max Pooling\n",
    "classification_block_maxpool = classification_block_5layer(fc_block)\n",
    "l5_maxglobalpool_model = Model(inputs = inputs, outputs = classification_block_maxpool)\n"
   ]
  },
  {
   "cell_type": "code",
   "execution_count": 86,
   "id": "4da33cf0-a6a3-403b-a623-b90117357bb9",
   "metadata": {},
   "outputs": [],
   "source": [
    "#Load Weights\n",
    "weights_path = 'final_models/L5_max_pool_v2/L5_max_pool_v2_07.keras' #7th epoch\n",
    "l5_maxglobalpool_model.load_weights(weights_path)\n"
   ]
  },
  {
   "cell_type": "markdown",
   "id": "2afa61b4-cb6d-4e49-b8bc-082b0535f98e",
   "metadata": {},
   "source": [
    "# Create Validation and Test Pipeline"
   ]
  },
  {
   "cell_type": "code",
   "execution_count": 87,
   "id": "3735de78-b240-4153-9976-5493a9fac95a",
   "metadata": {},
   "outputs": [],
   "source": [
    "validation_df = pd.read_csv('Data/pneumonia/val_metadata.csv')\n",
    "validation_df['file_path'] = 'Data/pneumonia/Training/Images/' + validation_df['patientId'] + '.png'\n",
    "validation_data = list(zip(validation_df['file_path'], validation_df['Target']))\n",
    "validation_paths, validation_target = zip(*validation_data)\n",
    "\n",
    "def load_and_process_validation(image_path, target):\n",
    "    image = tf.io.read_file(image_path)\n",
    "    image = tf.image.decode_png(image, channels=1)\n",
    "    image = tf.image.resize(image, [IMG_SIZE, IMG_SIZE], method = 'bilinear')\n",
    "    image = tf.cast(image, tf.float32)\n",
    "    return image, target\n",
    "\n",
    "val_ds = tf.data.Dataset.from_tensor_slices((list(validation_paths),  list(validation_target)))\n",
    "val_ds = val_ds.map(load_and_process_validation, num_parallel_calls=tf.data.AUTOTUNE)\n",
    "val_ds = val_ds.batch(batch_size).prefetch(tf.data.AUTOTUNE)\n"
   ]
  },
  {
   "cell_type": "code",
   "execution_count": null,
   "id": "7de87922-ea70-4f36-8c8f-1be152d1e0d7",
   "metadata": {},
   "outputs": [],
   "source": [
    "\n",
    "test_df = pd.read_csv('Data/pneumonia/test_metadata.csv')\n",
    "test_df['file_path'] = 'Data/pneumonia/Training/Images/' + test_df['patientId'] + '.png'\n",
    "test_df = list(zip(test_df['file_path'], test_df['Target']))\n",
    "test_paths, test_target = zip(*test_df)\n",
    "\n",
    "test_ds = tf.data.Dataset.from_tensor_slices((list(test_paths),  list(test_target)))\n",
    "test_ds = test_ds.map(load_and_process_validation, num_parallel_calls=tf.data.AUTOTUNE)\n",
    "test_ds = test_ds.batch(batch_size).prefetch(tf.data.AUTOTUNE)\n"
   ]
  },
  {
   "cell_type": "markdown",
   "id": "ffb01ac9-c71e-4132-b444-9d5de5821ae9",
   "metadata": {},
   "source": [
    "# Plot Precision - Recall Curve"
   ]
  },
  {
   "cell_type": "code",
   "execution_count": 88,
   "id": "ba6b8af9-e36e-4a40-85b9-bae872ca0863",
   "metadata": {},
   "outputs": [
    {
     "name": "stdout",
     "output_type": "stream",
     "text": [
      "188/188 [==============================] - 12s 62ms/step\n"
     ]
    }
   ],
   "source": [
    "y_prob = l5_maxglobalpool_model.predict(val_ds) #Prediction on Validation Set\n",
    "y_true = validation_target #True labels on Validation Set"
   ]
  },
  {
   "cell_type": "code",
   "execution_count": 91,
   "id": "35557a82-d71a-4f79-8bc7-4bb6b7c7249e",
   "metadata": {},
   "outputs": [
    {
     "name": "stderr",
     "output_type": "stream",
     "text": [
      "No artists with labels found to put in legend.  Note that artists whose label start with an underscore are ignored when legend() is called with no argument.\n"
     ]
    },
    {
     "data": {
      "image/png": "[encoded data removed]",
      "text/plain": [
       "<Figure size 800x600 with 1 Axes>"
      ]
     },
     "metadata": {},
     "output_type": "display_data"
    }
   ],
   "source": [
    "precision, recall, thresholds = precision_recall_curve(y_true, y_prob)\n",
    "thresholds_v2 = np.append(thresholds,1)\n",
    "\n",
    "plt.figure(figsize=(8, 6))\n",
    "plt.plot(recall, precision)\n",
    "plt.xlabel('Recall')\n",
    "plt.ylabel('Precision')\n",
    "plt.title('Precision-Recall Curve')\n",
    "plt.legend()\n",
    "plt.grid(True)\n",
    "plt.show()"
   ]
  },
  {
   "cell_type": "markdown",
   "id": "7df9568c-3b95-4e2f-83cf-b4cbb4dd8adf",
   "metadata": {},
   "source": [
    "We can see that as the threshold for positive class decreases from left to right, precision gets lower and recall gets higher as expected!\n",
    "\n",
    "Since this is a model to \"suggest\" pneumonia presence, the threshold should be caliberated such that recall is higher (>90%) given satisfactory precision!"
   ]
  },
  {
   "cell_type": "markdown",
   "id": "a19a4565-a834-4609-b81e-4d6ca6c50f6d",
   "metadata": {},
   "source": [
    "# Caliberate Threshold s.t. Recall >90%"
   ]
  },
  {
   "cell_type": "code",
   "execution_count": 93,
   "id": "bfd6985e-e16f-4686-acfe-e0b558fa3184",
   "metadata": {},
   "outputs": [
    {
     "data": {
      "text/html": [
       "<div>\n",
       "<style scoped>\n",
       "    .dataframe tbody tr th:only-of-type {\n",
       "        vertical-align: middle;\n",
       "    }\n",
       "\n",
       "    .dataframe tbody tr th {\n",
       "        vertical-align: top;\n",
       "    }\n",
       "\n",
       "    .dataframe thead th {\n",
       "        text-align: right;\n",
       "    }\n",
       "</style>\n",
       "<table border=\"1\" class=\"dataframe\">\n",
       "  <thead>\n",
       "    <tr style=\"text-align: right;\">\n",
       "      <th></th>\n",
       "      <th>threshold</th>\n",
       "      <th>precision</th>\n",
       "      <th>recall</th>\n",
       "    </tr>\n",
       "  </thead>\n",
       "  <tbody>\n",
       "    <tr>\n",
       "      <th>1172</th>\n",
       "      <td>0.283277</td>\n",
       "      <td>0.593866</td>\n",
       "      <td>0.901269</td>\n",
       "    </tr>\n",
       "    <tr>\n",
       "      <th>1171</th>\n",
       "      <td>0.283217</td>\n",
       "      <td>0.593315</td>\n",
       "      <td>0.901269</td>\n",
       "    </tr>\n",
       "    <tr>\n",
       "      <th>1170</th>\n",
       "      <td>0.282977</td>\n",
       "      <td>0.593692</td>\n",
       "      <td>0.902680</td>\n",
       "    </tr>\n",
       "    <tr>\n",
       "      <th>1169</th>\n",
       "      <td>0.281777</td>\n",
       "      <td>0.593142</td>\n",
       "      <td>0.902680</td>\n",
       "    </tr>\n",
       "    <tr>\n",
       "      <th>1168</th>\n",
       "      <td>0.280520</td>\n",
       "      <td>0.592593</td>\n",
       "      <td>0.902680</td>\n",
       "    </tr>\n",
       "    <tr>\n",
       "      <th>1167</th>\n",
       "      <td>0.280499</td>\n",
       "      <td>0.592044</td>\n",
       "      <td>0.902680</td>\n",
       "    </tr>\n",
       "    <tr>\n",
       "      <th>1166</th>\n",
       "      <td>0.279914</td>\n",
       "      <td>0.591497</td>\n",
       "      <td>0.902680</td>\n",
       "    </tr>\n",
       "    <tr>\n",
       "      <th>1165</th>\n",
       "      <td>0.278932</td>\n",
       "      <td>0.590951</td>\n",
       "      <td>0.902680</td>\n",
       "    </tr>\n",
       "    <tr>\n",
       "      <th>1164</th>\n",
       "      <td>0.278737</td>\n",
       "      <td>0.590406</td>\n",
       "      <td>0.902680</td>\n",
       "    </tr>\n",
       "    <tr>\n",
       "      <th>1163</th>\n",
       "      <td>0.278426</td>\n",
       "      <td>0.589862</td>\n",
       "      <td>0.902680</td>\n",
       "    </tr>\n",
       "  </tbody>\n",
       "</table>\n",
       "</div>"
      ],
      "text/plain": [
       "      threshold  precision    recall\n",
       "1172   0.283277   0.593866  0.901269\n",
       "1171   0.283217   0.593315  0.901269\n",
       "1170   0.282977   0.593692  0.902680\n",
       "1169   0.281777   0.593142  0.902680\n",
       "1168   0.280520   0.592593  0.902680\n",
       "1167   0.280499   0.592044  0.902680\n",
       "1166   0.279914   0.591497  0.902680\n",
       "1165   0.278932   0.590951  0.902680\n",
       "1164   0.278737   0.590406  0.902680\n",
       "1163   0.278426   0.589862  0.902680"
      ]
     },
     "execution_count": 93,
     "metadata": {},
     "output_type": "execute_result"
    }
   ],
   "source": [
    "pr_curve_df = pd.DataFrame(data = {'threshold': thresholds_v2, 'precision': precision, 'recall': recall})\n",
    "pr_curve_df.sort_values('threshold', ascending = False, inplace = True)\n",
    "pr_curve_df[pr_curve_df['recall']>=0.9].head(10)"
   ]
  },
  {
   "cell_type": "markdown",
   "id": "8849fb65-ddfc-4637-9f2c-8b71ab3c90b6",
   "metadata": {},
   "source": [
    "Hence, if we set our threshold to 0.283, we get recall of 90% with the precision of 59% on the validation set!"
   ]
  },
  {
   "cell_type": "code",
   "execution_count": null,
   "id": "79ef73ec-b478-4bda-8df1-8f23c325b77a",
   "metadata": {},
   "outputs": [],
   "source": [
    "calibrated_threshold = 0.283"
   ]
  },
  {
   "cell_type": "markdown",
   "id": "24fe58aa-7b1e-46f6-80f5-7131398b13c3",
   "metadata": {},
   "source": [
    "# Testing the Final Model"
   ]
  },
  {
   "cell_type": "code",
   "execution_count": 96,
   "id": "cc2f62d1-8c4e-476f-a92e-0af29cc3b94e",
   "metadata": {},
   "outputs": [
    {
     "name": "stdout",
     "output_type": "stream",
     "text": [
      "188/188 [==============================] - 12s 63ms/step\n"
     ]
    }
   ],
   "source": [
    "y_prob_test = l5_maxglobalpool_model.predict(test_ds)\n",
    "y_true_test = test_target"
   ]
  },
  {
   "cell_type": "code",
   "execution_count": 97,
   "id": "49359e86-607b-4b58-bcec-33a3f45aec87",
   "metadata": {},
   "outputs": [],
   "source": [
    "\n",
    "def evaluate_model(y_true, y_probs, threshold=0.5):\n",
    "\n",
    "    y_true = np.array(y_true)\n",
    "    y_probs = np.array(y_probs).flatten()\n",
    "    y_pred = (y_probs >= threshold).astype(int)\n",
    "\n",
    "    metrics = {\n",
    "        \"Accuracy\": accuracy_score(y_true, y_pred),\n",
    "        \"AUC\": roc_auc_score(y_true, y_probs),\n",
    "        \"Precision\": precision_score(y_true, y_pred, zero_division=0),\n",
    "        \"Recall\": recall_score(y_true, y_pred, zero_division=0),\n",
    "    }\n",
    "\n",
    "    return metrics\n"
   ]
  },
  {
   "cell_type": "code",
   "execution_count": 98,
   "id": "fc91a324-3a3c-4f69-b9bb-1c483a336266",
   "metadata": {},
   "outputs": [
    {
     "data": {
      "text/plain": [
       "{'Accuracy': 0.7448888888888889,\n",
       " 'AUC': 0.8795017314624036,\n",
       " 'Precision': 0.544211485870556,\n",
       " 'Recall': 0.8897168405365127}"
      ]
     },
     "execution_count": 98,
     "metadata": {},
     "output_type": "execute_result"
    }
   ],
   "source": [
    "evaluate_model(y_true_test, y_prob_test, calibrated_threshold)"
   ]
  },
  {
   "cell_type": "markdown",
   "id": "49ee12c8-b6e6-4813-9d45-cd9830ce0ef4",
   "metadata": {},
   "source": [
    "# Performance on Testing Set\n",
    "1. On testing set, we got the AUC of 0.87. This is good!\n",
    "2. However, we got the precision of 54% on the recall of 89%!\n",
    "3. In the improved model, we should aim to increase the precision of the model while keeping the higher recall (>90%) to suit clinical needs to aid radiologists"
   ]
  }
 ],
 "metadata": {
  "kernelspec": {
   "display_name": "Python 3 (ipykernel)",
   "language": "python",
   "name": "python3"
  },
  "language_info": {
   "codemirror_mode": {
    "name": "ipython",
    "version": 3
   },
   "file_extension": ".py",
   "mimetype": "text/x-python",
   "name": "python",
   "nbconvert_exporter": "python",
   "pygments_lexer": "ipython3",
   "version": "3.10.11"
  }
 },
 "nbformat": 4,
 "nbformat_minor": 5
}
